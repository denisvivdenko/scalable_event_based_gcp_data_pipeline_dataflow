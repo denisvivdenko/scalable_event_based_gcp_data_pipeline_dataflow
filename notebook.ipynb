{
 "cells": [
  {
   "cell_type": "code",
   "execution_count": 8,
   "metadata": {},
   "outputs": [],
   "source": [
    "import pandas as pd\n",
    "import configparser"
   ]
  },
  {
   "cell_type": "code",
   "execution_count": 14,
   "metadata": {},
   "outputs": [],
   "source": [
    "config = configparser.ConfigParser()\n",
    "config.read(\"config.ini\")\n",
    "chunks = pd.read_csv(config.get(\"data\", \"covid_data_path\"), chunksize=1)"
   ]
  },
  {
   "cell_type": "code",
   "execution_count": 15,
   "metadata": {},
   "outputs": [
    {
     "name": "stdout",
     "output_type": "stream",
     "text": [
      "   Case_Type  People_Total_Tested_Count  Cases  Difference       Date  \\\n",
      "0  Confirmed                        NaN      6           0  5/22/2020   \n",
      "\n",
      "     Combined_Key  Country_Region  Province_State  Admin2 iso2 iso3  FIPS  \\\n",
      "0  Western Sahara  Western Sahara             NaN     NaN   EH  ESH   NaN   \n",
      "\n",
      "       Lat     Long  Population_Count  People_Hospitalized_Cumulative_Count  \\\n",
      "0  24.2155 -12.8858            597330                                   NaN   \n",
      "\n",
      "                                         Data_Source     Prep_Flow_Runtime  \n",
      "0  2019 Novel Coronavirus COVID-19 (2019-nCoV) Da...  6/4/2020 11:15:39 PM  \n",
      "   Case_Type  People_Total_Tested_Count  Cases  Difference      Date  \\\n",
      "1  Confirmed                        NaN      0           0  2/3/2020   \n",
      "\n",
      "  Combined_Key Country_Region  Province_State  Admin2 iso2 iso3  FIPS  \\\n",
      "1  Switzerland    Switzerland             NaN     NaN   CH  CHE   NaN   \n",
      "\n",
      "       Lat    Long  Population_Count  People_Hospitalized_Cumulative_Count  \\\n",
      "1  46.8182  8.2275           8654618                                   NaN   \n",
      "\n",
      "                                         Data_Source     Prep_Flow_Runtime  \n",
      "1  2019 Novel Coronavirus COVID-19 (2019-nCoV) Da...  6/4/2020 11:15:39 PM  \n"
     ]
    }
   ],
   "source": [
    "for i, chunk in enumerate(chunks):\n",
    "    if i > 1: break\n",
    "    print(chunk)"
   ]
  },
  {
   "cell_type": "code",
   "execution_count": null,
   "metadata": {},
   "outputs": [],
   "source": []
  }
 ],
 "metadata": {
  "kernelspec": {
   "display_name": "3.10venv",
   "language": "python",
   "name": "python3"
  },
  "language_info": {
   "codemirror_mode": {
    "name": "ipython",
    "version": 3
   },
   "file_extension": ".py",
   "mimetype": "text/x-python",
   "name": "python",
   "nbconvert_exporter": "python",
   "pygments_lexer": "ipython3",
   "version": "3.10.6"
  },
  "orig_nbformat": 4,
  "vscode": {
   "interpreter": {
    "hash": "124313a4f6b42ff1db841cff91539a45d9a519b165bab335a814a8cd610108e0"
   }
  }
 },
 "nbformat": 4,
 "nbformat_minor": 2
}
